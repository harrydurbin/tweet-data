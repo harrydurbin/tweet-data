{
 "cells": [
  {
   "cell_type": "markdown",
   "metadata": {},
   "source": [
    "## Import modules"
   ]
  },
  {
   "cell_type": "code",
   "execution_count": 1,
   "metadata": {},
   "outputs": [],
   "source": [
    "import json\n",
    "import time\n",
    "import numpy as np\n",
    "import matplotlib.pyplot as plt\n",
    "import pandas as pd\n",
    "import folium\n",
    "import gc \n",
    "from IPython.display import HTML\n",
    "import warnings\n",
    "import geopandas as gpd\n",
    "from shapely.geometry import MultiPoint, Polygon, Point, LineString\n",
    "from sklearn.cluster import MiniBatchKMeans, DBSCAN\n",
    "from sklearn import metrics\n",
    "import sqlalchemy\n",
    "import psycopg2\n",
    "import os\n",
    "import subprocess\n",
    "from scipy.spatial import ConvexHull\n",
    "# from scipy.spatial import Delaunay\n",
    "warnings.filterwarnings(\"ignore\")\n",
    "%matplotlib inline  "
   ]
  },
  {
   "cell_type": "markdown",
   "metadata": {},
   "source": [
    "## Setup database connection"
   ]
  },
  {
   "cell_type": "code",
   "execution_count": 2,
   "metadata": {},
   "outputs": [],
   "source": [
    "USER = 'harry'\n",
    "PASSWORD = 'harry'\n",
    "enginestring = 'postgresql://{}:{}@localhost:5433/tweets'.format(USER, PASSWORD)\n",
    "engine = sqlalchemy.create_engine(enginestring)\n",
    "\n",
    "conn = psycopg2.connect(\"dbname=tweets user=harry host=localhost port=5433 password='harry'\")\n",
    "cur = conn.cursor()\n",
    "conn.commit()"
   ]
  },
  {
   "cell_type": "code",
   "execution_count": 2,
   "metadata": {},
   "outputs": [],
   "source": [
    "with open(\"tweets_1M.json\",'r') as f:\n",
    "    tweets=json.load(f)"
   ]
  },
  {
   "cell_type": "code",
   "execution_count": 3,
   "metadata": {},
   "outputs": [
    {
     "name": "stdout",
     "output_type": "stream",
     "text": [
      "1000000 rows of data\n"
     ]
    },
    {
     "data": {
      "text/html": [
       "<div>\n",
       "<style scoped>\n",
       "    .dataframe tbody tr th:only-of-type {\n",
       "        vertical-align: middle;\n",
       "    }\n",
       "\n",
       "    .dataframe tbody tr th {\n",
       "        vertical-align: top;\n",
       "    }\n",
       "\n",
       "    .dataframe thead th {\n",
       "        text-align: right;\n",
       "    }\n",
       "</style>\n",
       "<table border=\"1\" class=\"dataframe\">\n",
       "  <thead>\n",
       "    <tr style=\"text-align: right;\">\n",
       "      <th></th>\n",
       "      <th>user_id</th>\n",
       "      <th>text</th>\n",
       "      <th>timeStamp</th>\n",
       "      <th>lat</th>\n",
       "      <th>lng</th>\n",
       "      <th>id</th>\n",
       "    </tr>\n",
       "  </thead>\n",
       "  <tbody>\n",
       "    <tr>\n",
       "      <th>0</th>\n",
       "      <td>224874450</td>\n",
       "      <td>@Tanner_Cortez hey checkout the website: http:...</td>\n",
       "      <td>Wed Sep 11 04:38:08 +0000 2013</td>\n",
       "      <td>37.446100</td>\n",
       "      <td>-121.883557</td>\n",
       "      <td>377652254096228352</td>\n",
       "    </tr>\n",
       "    <tr>\n",
       "      <th>1</th>\n",
       "      <td>312179473</td>\n",
       "      <td>@Lennayy7 😪</td>\n",
       "      <td>Wed Sep 11 04:38:08 +0000 2013</td>\n",
       "      <td>34.087406</td>\n",
       "      <td>-117.462604</td>\n",
       "      <td>377652255346159616</td>\n",
       "    </tr>\n",
       "    <tr>\n",
       "      <th>2</th>\n",
       "      <td>54351774</td>\n",
       "      <td>i laugh a lot with that line</td>\n",
       "      <td>Wed Sep 11 04:38:10 +0000 2013</td>\n",
       "      <td>37.356131</td>\n",
       "      <td>-121.842867</td>\n",
       "      <td>377652262325456897</td>\n",
       "    </tr>\n",
       "    <tr>\n",
       "      <th>3</th>\n",
       "      <td>343219606</td>\n",
       "      <td>sons of anarchy is back on woop woop</td>\n",
       "      <td>Wed Sep 11 04:38:11 +0000 2013</td>\n",
       "      <td>37.364664</td>\n",
       "      <td>-122.009629</td>\n",
       "      <td>377652264682655744</td>\n",
       "    </tr>\n",
       "    <tr>\n",
       "      <th>4</th>\n",
       "      <td>1569395935</td>\n",
       "      <td>Drinking a Fresh Squeezed IPA by @deschutesbee...</td>\n",
       "      <td>Wed Sep 11 04:38:12 +0000 2013</td>\n",
       "      <td>37.382600</td>\n",
       "      <td>-121.995000</td>\n",
       "      <td>377652271116722176</td>\n",
       "    </tr>\n",
       "  </tbody>\n",
       "</table>\n",
       "</div>"
      ],
      "text/plain": [
       "      user_id                                               text  \\\n",
       "0   224874450  @Tanner_Cortez hey checkout the website: http:...   \n",
       "1   312179473                                        @Lennayy7 😪   \n",
       "2    54351774                       i laugh a lot with that line   \n",
       "3   343219606               sons of anarchy is back on woop woop   \n",
       "4  1569395935  Drinking a Fresh Squeezed IPA by @deschutesbee...   \n",
       "\n",
       "                        timeStamp        lat         lng                  id  \n",
       "0  Wed Sep 11 04:38:08 +0000 2013  37.446100 -121.883557  377652254096228352  \n",
       "1  Wed Sep 11 04:38:08 +0000 2013  34.087406 -117.462604  377652255346159616  \n",
       "2  Wed Sep 11 04:38:10 +0000 2013  37.356131 -121.842867  377652262325456897  \n",
       "3  Wed Sep 11 04:38:11 +0000 2013  37.364664 -122.009629  377652264682655744  \n",
       "4  Wed Sep 11 04:38:12 +0000 2013  37.382600 -121.995000  377652271116722176  "
      ]
     },
     "execution_count": 3,
     "metadata": {},
     "output_type": "execute_result"
    }
   ],
   "source": [
    "df = pd.DataFrame(tweets)\n",
    "print (len(df),\"rows of data\")\n",
    "df.head()"
   ]
  },
  {
   "cell_type": "markdown",
   "metadata": {},
   "source": [
    "## Convert to state plane coordinates"
   ]
  },
  {
   "cell_type": "code",
   "execution_count": 4,
   "metadata": {},
   "outputs": [],
   "source": [
    "df['lat_conv'] = (df.lat - 32)*89700 # convert to meters with origin at 32d N (1d lat = 89.7km)\n",
    "df['lng_conv'] = (df.lng + 126)*112700 # convert to meters with origin at 126d W (1d lng = 112.7km)\n",
    "df = df.assign(crds=df[['lat_conv', 'lng_conv']].values.tolist())\n",
    "# # define the number of kilometers in one radian\n",
    "# kms_per_radian = 6371.0088\n",
    "# # define epsilon as 1.5 kilometers, converted to radians for use by haversine\n",
    "# EPSILON = 1.5 / kms_per_radian"
   ]
  },
  {
   "cell_type": "markdown",
   "metadata": {},
   "source": [
    "## Run Mini-Batch KMeans to divide data into spatial clusters"
   ]
  },
  {
   "cell_type": "code",
   "execution_count": 5,
   "metadata": {},
   "outputs": [],
   "source": [
    "n = 10 # set the number of clusters to split the data into\n",
    "def runMBKmeans(df):\n",
    "    # RUNNING MINIBATCH KMEANS ON ENTIRE SET \n",
    "#     print ('Beginning to run MiniBatch Kmeans.')\n",
    "    ## initialize with MBK-means++, a good way to speed up convergence more than K-Means\n",
    "    mbk_means = MiniBatchKMeans(init='k-means++', n_clusters=n, n_init=10, init_size = 3*n, verbose = 0) # set minibatch kmeans parameters\n",
    "    mbk_means.fit(list(df.crds.values)) # run mini batch k means on the lat and lng coordinate data\n",
    "    df['mbk_means_labels'] = mbk_means.labels_ # this is an array that indicates which cluster each tweet is in\n",
    "    df_output = df\n",
    "    mbk_means_cluster_centers = mbk_means.cluster_centers_ # this is an array that indicates which cluster each tweet is in\n",
    "    df0 = pd.DataFrame()\n",
    "    df0= pd.DataFrame(mbk_means_cluster_centers,columns = ['lat','lng'])\n",
    "    df0 = pd.DataFrame(mbk_means_cluster_centers,columns = ['lat_centroid','lng_centroid'])\n",
    "    df0['unique_tweeters'] = df.groupby('mbk_means_labels')['user_id'].nunique()\n",
    "    df0['unique_tweets'] = df.groupby('mbk_means_labels')['mbk_means_labels'].count()\n",
    "#     print ('Finished running Kmeans.')\n",
    "    return df_output, df0"
   ]
  },
  {
   "cell_type": "code",
   "execution_count": 6,
   "metadata": {},
   "outputs": [],
   "source": [
    "df,df0 = runMBKmeans(df)\n",
    "df0['labels'] = np.arange(n)\n",
    "df['db_labels'] = \"\""
   ]
  },
  {
   "cell_type": "markdown",
   "metadata": {},
   "source": [
    "## Running DBSCAN on each cluster generated by MiniBatch Kmeans"
   ]
  },
  {
   "cell_type": "code",
   "execution_count": 7,
   "metadata": {},
   "outputs": [],
   "source": [
    "def runDBSCAN(df,EPSILON):\n",
    "    coords = list(df.crds.values)\n",
    "    db = DBSCAN(eps=EPSILON).fit(coords)\n",
    "    db_labels = db.labels_ # create DBSCAN cluster labels generated for the cluster generated by MBKmeans\n",
    "    db_labels_unique = np.unique(db_labels)\n",
    "    k_DB = len(db_labels_unique)-1   #number of clusters detected with DBSCAN, subtract one because one cluster is noise (-1)    \n",
    "    DB_noise = list(db_labels).count(-1) # these are tweets that DBScan determined to be noise\n",
    "    df.db_labels = list(db.labels_)\n",
    "#     print ('Number of sub-clusters detected is: ', k_DB)\n",
    "#     print ('Noise tweet count is: ', DB_noise)\n",
    "#     print ('Important (non-noise) tweet count is : ', len(df)-DB_noise)\n",
    "    collected = gc.collect() \n",
    "    return df"
   ]
  },
  {
   "cell_type": "code",
   "execution_count": 8,
   "metadata": {
    "scrolled": false
   },
   "outputs": [
    {
     "name": "stdout",
     "output_type": "stream",
     "text": [
      "Cluster # 0 Run Time:  13.0 seconds\n",
      "Cluster # 1 Run Time:  5.0 seconds\n",
      "Cluster # 2 Run Time:  2.0 seconds\n",
      "Cluster # 3 Run Time:  1.0 seconds\n",
      "Cluster # 4 Run Time:  6.0 seconds\n",
      "Cluster # 5 Run Time:  2.0 seconds\n",
      "Cluster # 6 Run Time:  29.0 seconds\n",
      "Cluster # 7 Run Time:  2.0 seconds\n",
      "Cluster # 8 Run Time:  2.0 seconds\n",
      "Cluster # 9 Run Time:  7.0 seconds\n"
     ]
    }
   ],
   "source": [
    "clusters = np.arange(n)\n",
    "EPSILON = 400 #meters\n",
    "for cluster in clusters:\n",
    "#     print ('________________________________________')\n",
    "    start_time = time.time()\n",
    "    df_cluster = df[df['mbk_means_labels']==cluster]\n",
    "    if len(df_cluster)>1:\n",
    "        df_cluster1 = runDBSCAN(df_cluster,EPSILON)\n",
    "        df[df['mbk_means_labels']==cluster] = df_cluster1\n",
    "        elapsed_time = time.time() - start_time\n",
    "    else:\n",
    "        next\n",
    "    print('Cluster #', cluster, 'Run Time: ', round(elapsed_time,0), 'seconds')"
   ]
  },
  {
   "cell_type": "markdown",
   "metadata": {},
   "source": [
    "## Removing points determined to be noise in DBSCAN (i.e. cluster labels of '-1')"
   ]
  },
  {
   "cell_type": "code",
   "execution_count": 9,
   "metadata": {},
   "outputs": [
    {
     "name": "stdout",
     "output_type": "stream",
     "text": [
      "Rows of data reduced from 1000000 to 985158.\n"
     ]
    }
   ],
   "source": [
    "df = df[df.db_labels!= -1]\n",
    "print ('Rows of data reduced from 1000000 to' , str(len(df)) + \".\")"
   ]
  },
  {
   "cell_type": "markdown",
   "metadata": {},
   "source": [
    "## Create a unique cluster label that combines both kmeans and dbscan cluster labels"
   ]
  },
  {
   "cell_type": "code",
   "execution_count": 10,
   "metadata": {},
   "outputs": [
    {
     "name": "stdout",
     "output_type": "stream",
     "text": [
      "3545 clusters were found in the data.\n"
     ]
    }
   ],
   "source": [
    "df['labels'] = (df.mbk_means_labels).astype(str) + '.' + (df.db_labels).astype(str)\n",
    "num_of_clusters = len(df.groupby('labels').labels.nunique())\n",
    "print (num_of_clusters , \"clusters were found in the data.\")"
   ]
  },
  {
   "cell_type": "markdown",
   "metadata": {},
   "source": [
    "## Write data to  psql / postgis database"
   ]
  },
  {
   "cell_type": "code",
   "execution_count": 12,
   "metadata": {},
   "outputs": [],
   "source": [
    "df.to_sql('tweetpoints', engine, if_exists='replace')"
   ]
  },
  {
   "cell_type": "code",
   "execution_count": 13,
   "metadata": {},
   "outputs": [],
   "source": [
    "cur.execute(\"SELECT AddGeometryColumn ('tweetpoints', 'location', 4326, 'POINT', 2);\")\n",
    "cur.execute(\"UPDATE tweetpoints SET location = ST_SetSRID (ST_Point(lng, lat), 4326);\")\n",
    "conn.commit()"
   ]
  },
  {
   "cell_type": "markdown",
   "metadata": {},
   "source": [
    "## Create a new dataframe to hold cluster information"
   ]
  },
  {
   "cell_type": "code",
   "execution_count": 14,
   "metadata": {},
   "outputs": [],
   "source": [
    "df1 = pd.DataFrame()\n",
    "df1['label'] = df.groupby('labels').labels.nunique().index.values\n",
    "df1['tweetcount'] =  df.groupby('labels').user_id.count().values\n",
    "df1['usercount'] =  df.groupby('labels').user_id.nunique().values\n",
    "df1 = df1.sort_values('tweetcount', ascending=False)"
   ]
  },
  {
   "cell_type": "code",
   "execution_count": 15,
   "metadata": {},
   "outputs": [
    {
     "data": {
      "text/html": [
       "<div>\n",
       "<style scoped>\n",
       "    .dataframe tbody tr th:only-of-type {\n",
       "        vertical-align: middle;\n",
       "    }\n",
       "\n",
       "    .dataframe tbody tr th {\n",
       "        vertical-align: top;\n",
       "    }\n",
       "\n",
       "    .dataframe thead th {\n",
       "        text-align: right;\n",
       "    }\n",
       "</style>\n",
       "<table border=\"1\" class=\"dataframe\">\n",
       "  <thead>\n",
       "    <tr style=\"text-align: right;\">\n",
       "      <th></th>\n",
       "      <th>label</th>\n",
       "      <th>tweetcount</th>\n",
       "      <th>usercount</th>\n",
       "    </tr>\n",
       "  </thead>\n",
       "  <tbody>\n",
       "    <tr>\n",
       "      <th>2591</th>\n",
       "      <td>6.0</td>\n",
       "      <td>241859</td>\n",
       "      <td>27035</td>\n",
       "    </tr>\n",
       "    <tr>\n",
       "      <th>0</th>\n",
       "      <td>0.0</td>\n",
       "      <td>164483</td>\n",
       "      <td>9278</td>\n",
       "    </tr>\n",
       "    <tr>\n",
       "      <th>3343</th>\n",
       "      <td>9.0</td>\n",
       "      <td>85945</td>\n",
       "      <td>8091</td>\n",
       "    </tr>\n",
       "    <tr>\n",
       "      <th>1950</th>\n",
       "      <td>4.1</td>\n",
       "      <td>73890</td>\n",
       "      <td>3655</td>\n",
       "    </tr>\n",
       "    <tr>\n",
       "      <th>1949</th>\n",
       "      <td>4.0</td>\n",
       "      <td>41014</td>\n",
       "      <td>6676</td>\n",
       "    </tr>\n",
       "  </tbody>\n",
       "</table>\n",
       "</div>"
      ],
      "text/plain": [
       "     label  tweetcount  usercount\n",
       "2591   6.0      241859      27035\n",
       "0      0.0      164483       9278\n",
       "3343   9.0       85945       8091\n",
       "1950   4.1       73890       3655\n",
       "1949   4.0       41014       6676"
      ]
     },
     "execution_count": 15,
     "metadata": {},
     "output_type": "execute_result"
    }
   ],
   "source": [
    "df1.head()"
   ]
  },
  {
   "cell_type": "markdown",
   "metadata": {},
   "source": [
    "## Filter out clusters that contain less than a thousand tweets in them"
   ]
  },
  {
   "cell_type": "code",
   "execution_count": 16,
   "metadata": {},
   "outputs": [
    {
     "name": "stdout",
     "output_type": "stream",
     "text": [
      "186 clusters contain at least 250 tweets.\n"
     ]
    }
   ],
   "source": [
    "threshold = 250\n",
    "df2 = df1[df1.tweetcount >= threshold]\n",
    "df2 = df2[df2.usercount > 1] # remove clusters that consist of only one user account\n",
    "print (len(df2), \"clusters contain at least\", threshold,\"tweets.\")"
   ]
  },
  {
   "cell_type": "markdown",
   "metadata": {},
   "source": [
    "## Investigate distribution of the number of tweets in each cluster"
   ]
  },
  {
   "cell_type": "code",
   "execution_count": 17,
   "metadata": {},
   "outputs": [
    {
     "data": {
      "image/png": "[encoded data removed]",
      "text/plain": [
       "<Figure size 1152x432 with 1 Axes>"
      ]
     },
     "metadata": {
      "needs_background": "light"
     },
     "output_type": "display_data"
    }
   ],
   "source": [
    "import seaborn as sns\n",
    "\n",
    "for col in ['tweetcount']: #,'usercount']:\n",
    "    plt.figure(figsize=(16, 6))\n",
    "    sns.distplot(df2[col], kde=False, bins=10)\n",
    "    plt.title('Density Distribution', fontsize=18)\n",
    "    plt.xlabel('Count of Tweets per Cluster', fontsize=16)\n",
    "    plt.ylabel('Frequency', fontsize=16)"
   ]
  },
  {
   "cell_type": "markdown",
   "metadata": {},
   "source": [
    "## Loop through labels to determin the convex hull (approximate perimeter) around each cluster"
   ]
  },
  {
   "cell_type": "code",
   "execution_count": 18,
   "metadata": {},
   "outputs": [],
   "source": [
    "# for kmeans clusters\n",
    "df0['geom'] = \"\"\n",
    "for cluster in df0.labels:\n",
    "    df3 = df[df.mbk_means_labels == cluster]\n",
    "    points = [[float(lng), float(lat)] for lng, lat in zip(df3.lng, df3.lat)]\n",
    "    multi_point = MultiPoint(points)\n",
    "    convex = multi_point.convex_hull\n",
    "    hull = str(convex)\n",
    "    df0.loc[df0['labels'] == cluster, ['geom']] = hull"
   ]
  },
  {
   "cell_type": "code",
   "execution_count": 19,
   "metadata": {},
   "outputs": [],
   "source": [
    "# for dbscan clusters\n",
    "df2['geom'] = \"\"\n",
    "for cluster in df2.label:\n",
    "    df3 = df[df.labels == cluster]\n",
    "    points = [[float(lng), float(lat)] for lng, lat in zip(df3.lng, df3.lat)]\n",
    "    multi_point = MultiPoint(points)\n",
    "    convex = multi_point.convex_hull\n",
    "    hull = str(convex)\n",
    "    df2.loc[df2['label'] == cluster, ['geom']] = hull"
   ]
  },
  {
   "cell_type": "markdown",
   "metadata": {},
   "source": [
    "## Write the cluster dataframe to a psql/postgis"
   ]
  },
  {
   "cell_type": "code",
   "execution_count": 20,
   "metadata": {},
   "outputs": [],
   "source": [
    "df0.to_sql('mbkmclusters', engine, if_exists='replace')"
   ]
  },
  {
   "cell_type": "code",
   "execution_count": 21,
   "metadata": {},
   "outputs": [],
   "source": [
    "df2.to_sql('clusters', engine, if_exists='replace')"
   ]
  },
  {
   "cell_type": "markdown",
   "metadata": {},
   "source": [
    "## Alter the psql/postgis clusters table to have spatial geometry "
   ]
  },
  {
   "cell_type": "code",
   "execution_count": 22,
   "metadata": {},
   "outputs": [],
   "source": [
    "cur.execute(\"SELECT AddGeometryColumn ('mbkmclusters', 'geometry', 4326, 'POLYGON', 2);\")\n",
    "cur.execute(\"UPDATE mbkmclusters SET geometry = ST_SetSRID(ST_GeomFromText(geom), 4326);\")\n",
    "cur.execute(\"ALTER TABLE mbkmclusters DROP COLUMN geom;\")\n",
    "conn.commit()"
   ]
  },
  {
   "cell_type": "code",
   "execution_count": 23,
   "metadata": {},
   "outputs": [],
   "source": [
    "cur.execute(\"SELECT AddGeometryColumn ('clusters', 'geometry', 4326, 'POLYGON', 2);\")\n",
    "cur.execute(\"UPDATE clusters SET geometry = ST_SetSRID(ST_GeomFromText(geom), 4326);\")\n",
    "cur.execute(\"ALTER TABLE clusters DROP COLUMN geom;\")\n",
    "conn.commit()"
   ]
  },
  {
   "cell_type": "code",
   "execution_count": 24,
   "metadata": {},
   "outputs": [],
   "source": [
    "conn.rollback() # use this command if error is given during query"
   ]
  },
  {
   "cell_type": "markdown",
   "metadata": {},
   "source": [
    "## Load shapefile of counties"
   ]
  },
  {
   "cell_type": "markdown",
   "metadata": {},
   "source": [
    "1) copy shapefile of counties\n",
    "\n",
    "2) change directory to location of shapepile\n",
    "\n",
    "3) in terminal: sudo -su postgres\n",
    "\n",
    "4) in terminal: shp2pgsql -I -W \"latin1\" -s 4326 tl_2010_06_county10/tl_2010_06_county10.shp tl_2010_06_county10 | psql -d tweets"
   ]
  },
  {
   "cell_type": "code",
   "execution_count": 25,
   "metadata": {},
   "outputs": [
    {
     "name": "stdout",
     "output_type": "stream",
     "text": [
      "['gid', 'statefp10', 'countyfp10', 'countyns10', 'geoid10', 'name10', 'namelsad10', 'lsad10', 'classfp10', 'mtfcc10', 'csafp10', 'cbsafp10', 'metdivfp10', 'funcstat10', 'aland10', 'awater10', 'intptlat10', 'intptlon10', 'geom']\n"
     ]
    }
   ],
   "source": [
    "cur.execute(\"Select * FROM tl_2010_06_county10;\")\n",
    "colnames = [desc[0] for desc in cur.description]\n",
    "print (colnames)"
   ]
  },
  {
   "cell_type": "code",
   "execution_count": 27,
   "metadata": {},
   "outputs": [
    {
     "name": "stdout",
     "output_type": "stream",
     "text": [
      "['index', 'geoid', 'sumlev', 'state', 'county', 'cbsa', 'csa', 'necta', 'cnecta', 'name', 'pop100', 'hu100', 'pop1002000', 'hu1002000', 'p001001', 'p0010012000']\n"
     ]
    }
   ],
   "source": [
    "cur.execute(\"Select * FROM ca_census_data;\")\n",
    "colnames = [desc[0] for desc in cur.description]\n",
    "print (colnames)"
   ]
  },
  {
   "cell_type": "code",
   "execution_count": 28,
   "metadata": {},
   "outputs": [
    {
     "name": "stdout",
     "output_type": "stream",
     "text": [
      "['index', 'label', 'tweetcount', 'usercount', 'geometry']\n"
     ]
    }
   ],
   "source": [
    "cur.execute(\"Select * FROM clusters;\")\n",
    "colnames = [desc[0] for desc in cur.description]\n",
    "print (colnames)"
   ]
  },
  {
   "cell_type": "markdown",
   "metadata": {},
   "source": [
    "## Copy census population data per county into posgis table"
   ]
  },
  {
   "cell_type": "code",
   "execution_count": 29,
   "metadata": {},
   "outputs": [
    {
     "data": {
      "text/html": [
       "<div>\n",
       "<style scoped>\n",
       "    .dataframe tbody tr th:only-of-type {\n",
       "        vertical-align: middle;\n",
       "    }\n",
       "\n",
       "    .dataframe tbody tr th {\n",
       "        vertical-align: top;\n",
       "    }\n",
       "\n",
       "    .dataframe thead th {\n",
       "        text-align: right;\n",
       "    }\n",
       "</style>\n",
       "<table border=\"1\" class=\"dataframe\">\n",
       "  <thead>\n",
       "    <tr style=\"text-align: right;\">\n",
       "      <th></th>\n",
       "      <th>geoid</th>\n",
       "      <th>sumlev</th>\n",
       "      <th>state</th>\n",
       "      <th>county</th>\n",
       "      <th>cbsa</th>\n",
       "      <th>csa</th>\n",
       "      <th>necta</th>\n",
       "      <th>cnecta</th>\n",
       "      <th>name</th>\n",
       "      <th>pop100</th>\n",
       "      <th>hu100</th>\n",
       "      <th>pop1002000</th>\n",
       "      <th>hu1002000</th>\n",
       "      <th>p001001</th>\n",
       "      <th>p0010012000</th>\n",
       "    </tr>\n",
       "  </thead>\n",
       "  <tbody>\n",
       "    <tr>\n",
       "      <th>0</th>\n",
       "      <td>6001</td>\n",
       "      <td>50</td>\n",
       "      <td>6</td>\n",
       "      <td>1</td>\n",
       "      <td>41860</td>\n",
       "      <td>488</td>\n",
       "      <td>NaN</td>\n",
       "      <td>NaN</td>\n",
       "      <td>Alameda County</td>\n",
       "      <td>1510271</td>\n",
       "      <td>582549</td>\n",
       "      <td>1443741</td>\n",
       "      <td>540183</td>\n",
       "      <td>1510271</td>\n",
       "      <td>1443741</td>\n",
       "    </tr>\n",
       "    <tr>\n",
       "      <th>1</th>\n",
       "      <td>6003</td>\n",
       "      <td>50</td>\n",
       "      <td>6</td>\n",
       "      <td>3</td>\n",
       "      <td>99999</td>\n",
       "      <td>999</td>\n",
       "      <td>NaN</td>\n",
       "      <td>NaN</td>\n",
       "      <td>Alpine County</td>\n",
       "      <td>1175</td>\n",
       "      <td>1760</td>\n",
       "      <td>1208</td>\n",
       "      <td>1514</td>\n",
       "      <td>1175</td>\n",
       "      <td>1208</td>\n",
       "    </tr>\n",
       "    <tr>\n",
       "      <th>2</th>\n",
       "      <td>6005</td>\n",
       "      <td>50</td>\n",
       "      <td>6</td>\n",
       "      <td>5</td>\n",
       "      <td>99999</td>\n",
       "      <td>999</td>\n",
       "      <td>NaN</td>\n",
       "      <td>NaN</td>\n",
       "      <td>Amador County</td>\n",
       "      <td>38091</td>\n",
       "      <td>18032</td>\n",
       "      <td>35100</td>\n",
       "      <td>15035</td>\n",
       "      <td>38091</td>\n",
       "      <td>35100</td>\n",
       "    </tr>\n",
       "    <tr>\n",
       "      <th>3</th>\n",
       "      <td>6007</td>\n",
       "      <td>50</td>\n",
       "      <td>6</td>\n",
       "      <td>7</td>\n",
       "      <td>17020</td>\n",
       "      <td>999</td>\n",
       "      <td>NaN</td>\n",
       "      <td>NaN</td>\n",
       "      <td>Butte County</td>\n",
       "      <td>220000</td>\n",
       "      <td>95835</td>\n",
       "      <td>203171</td>\n",
       "      <td>85523</td>\n",
       "      <td>220000</td>\n",
       "      <td>203171</td>\n",
       "    </tr>\n",
       "    <tr>\n",
       "      <th>4</th>\n",
       "      <td>6009</td>\n",
       "      <td>50</td>\n",
       "      <td>6</td>\n",
       "      <td>9</td>\n",
       "      <td>99999</td>\n",
       "      <td>999</td>\n",
       "      <td>NaN</td>\n",
       "      <td>NaN</td>\n",
       "      <td>Calaveras County</td>\n",
       "      <td>45578</td>\n",
       "      <td>27925</td>\n",
       "      <td>40554</td>\n",
       "      <td>22946</td>\n",
       "      <td>45578</td>\n",
       "      <td>40554</td>\n",
       "    </tr>\n",
       "  </tbody>\n",
       "</table>\n",
       "</div>"
      ],
      "text/plain": [
       "   geoid  sumlev  state  county   cbsa  csa  necta  cnecta              name  \\\n",
       "0   6001      50      6       1  41860  488    NaN     NaN    Alameda County   \n",
       "1   6003      50      6       3  99999  999    NaN     NaN     Alpine County   \n",
       "2   6005      50      6       5  99999  999    NaN     NaN     Amador County   \n",
       "3   6007      50      6       7  17020  999    NaN     NaN      Butte County   \n",
       "4   6009      50      6       9  99999  999    NaN     NaN  Calaveras County   \n",
       "\n",
       "    pop100   hu100  pop1002000  hu1002000  p001001  p0010012000  \n",
       "0  1510271  582549     1443741     540183  1510271      1443741  \n",
       "1     1175    1760        1208       1514     1175         1208  \n",
       "2    38091   18032       35100      15035    38091        35100  \n",
       "3   220000   95835      203171      85523   220000       203171  \n",
       "4    45578   27925       40554      22946    45578        40554  "
      ]
     },
     "execution_count": 29,
     "metadata": {},
     "output_type": "execute_result"
    }
   ],
   "source": [
    "ca_census_data = pd.read_csv('all_050_in_06.P1.csv')\n",
    "colnames = [x.lower() for x in ca_census_data.columns.values] # convert column names to lowercase\n",
    "ca_census_data.columns = colnames\n",
    "ca_census_data.to_sql('ca_census_data', engine, if_exists='replace')\n",
    "ca_census_data.head()"
   ]
  },
  {
   "cell_type": "markdown",
   "metadata": {},
   "source": [
    "## Population per county"
   ]
  },
  {
   "cell_type": "code",
   "execution_count": 30,
   "metadata": {},
   "outputs": [
    {
     "data": {
      "text/html": [
       "<div>\n",
       "<style scoped>\n",
       "    .dataframe tbody tr th:only-of-type {\n",
       "        vertical-align: middle;\n",
       "    }\n",
       "\n",
       "    .dataframe tbody tr th {\n",
       "        vertical-align: top;\n",
       "    }\n",
       "\n",
       "    .dataframe thead th {\n",
       "        text-align: right;\n",
       "    }\n",
       "</style>\n",
       "<table border=\"1\" class=\"dataframe\">\n",
       "  <thead>\n",
       "    <tr style=\"text-align: right;\">\n",
       "      <th></th>\n",
       "      <th>county</th>\n",
       "      <th>population</th>\n",
       "    </tr>\n",
       "  </thead>\n",
       "  <tbody>\n",
       "    <tr>\n",
       "      <th>0</th>\n",
       "      <td>Alpine County</td>\n",
       "      <td>1175</td>\n",
       "    </tr>\n",
       "    <tr>\n",
       "      <th>1</th>\n",
       "      <td>Sierra County</td>\n",
       "      <td>3240</td>\n",
       "    </tr>\n",
       "    <tr>\n",
       "      <th>2</th>\n",
       "      <td>Modoc County</td>\n",
       "      <td>9686</td>\n",
       "    </tr>\n",
       "    <tr>\n",
       "      <th>3</th>\n",
       "      <td>Trinity County</td>\n",
       "      <td>13786</td>\n",
       "    </tr>\n",
       "    <tr>\n",
       "      <th>4</th>\n",
       "      <td>Mono County</td>\n",
       "      <td>14202</td>\n",
       "    </tr>\n",
       "  </tbody>\n",
       "</table>\n",
       "</div>"
      ],
      "text/plain": [
       "           county  population\n",
       "0   Alpine County        1175\n",
       "1   Sierra County        3240\n",
       "2    Modoc County        9686\n",
       "3  Trinity County       13786\n",
       "4     Mono County       14202"
      ]
     },
     "execution_count": 30,
     "metadata": {},
     "output_type": "execute_result"
    }
   ],
   "source": [
    "sql = '''\n",
    "SELECT name as county, pop100 AS population\n",
    "FROM ca_census_data\n",
    "ORDER BY pop100;'''\n",
    "\n",
    "x = pd.read_sql_query(sql, con=conn)\n",
    "x.head()"
   ]
  },
  {
   "cell_type": "markdown",
   "metadata": {},
   "source": [
    "## Number of tweets per county"
   ]
  },
  {
   "cell_type": "code",
   "execution_count": 31,
   "metadata": {},
   "outputs": [
    {
     "data": {
      "text/html": [
       "<div>\n",
       "<style scoped>\n",
       "    .dataframe tbody tr th:only-of-type {\n",
       "        vertical-align: middle;\n",
       "    }\n",
       "\n",
       "    .dataframe tbody tr th {\n",
       "        vertical-align: top;\n",
       "    }\n",
       "\n",
       "    .dataframe thead th {\n",
       "        text-align: right;\n",
       "    }\n",
       "</style>\n",
       "<table border=\"1\" class=\"dataframe\">\n",
       "  <thead>\n",
       "    <tr style=\"text-align: right;\">\n",
       "      <th></th>\n",
       "      <th>county</th>\n",
       "      <th>tweetcount</th>\n",
       "    </tr>\n",
       "  </thead>\n",
       "  <tbody>\n",
       "    <tr>\n",
       "      <th>0</th>\n",
       "      <td>Alameda County</td>\n",
       "      <td>169909</td>\n",
       "    </tr>\n",
       "    <tr>\n",
       "      <th>1</th>\n",
       "      <td>Alpine County</td>\n",
       "      <td>7</td>\n",
       "    </tr>\n",
       "    <tr>\n",
       "      <th>2</th>\n",
       "      <td>Amador County</td>\n",
       "      <td>562</td>\n",
       "    </tr>\n",
       "    <tr>\n",
       "      <th>3</th>\n",
       "      <td>Butte County</td>\n",
       "      <td>3659</td>\n",
       "    </tr>\n",
       "    <tr>\n",
       "      <th>4</th>\n",
       "      <td>Calaveras County</td>\n",
       "      <td>72</td>\n",
       "    </tr>\n",
       "  </tbody>\n",
       "</table>\n",
       "</div>"
      ],
      "text/plain": [
       "             county  tweetcount\n",
       "0    Alameda County      169909\n",
       "1     Alpine County           7\n",
       "2     Amador County         562\n",
       "3      Butte County        3659\n",
       "4  Calaveras County          72"
      ]
     },
     "execution_count": 31,
     "metadata": {},
     "output_type": "execute_result"
    }
   ],
   "source": [
    "sql = \"\"\"\n",
    "SELECT t1.namelsad10 AS county, COUNT(T2.id) AS tweetcount\n",
    "FROM tl_2010_06_county10 T1,tweetpoints T2\n",
    "WHERE ST_Contains(T1.geom,T2.location)\n",
    "GROUP BY T1.namelsad10 \n",
    "ORDER BY T1.namelsad10;\n",
    "\"\"\"\n",
    "\n",
    "y = pd.read_sql_query(sql, con=conn)\n",
    "y.head()"
   ]
  },
  {
   "cell_type": "markdown",
   "metadata": {},
   "source": [
    "## Tweets per capita in each county"
   ]
  },
  {
   "cell_type": "markdown",
   "metadata": {},
   "source": [
    "#### Create postgis table"
   ]
  },
  {
   "cell_type": "code",
   "execution_count": 33,
   "metadata": {},
   "outputs": [],
   "source": [
    "sql = \"\"\"\n",
    "DROP TABLE IF EXISTS tweetspercapita;\n",
    "CREATE TABLE tweetspercapita AS\n",
    "(SELECT t3.namelsad10 AS county, t3.x AS tweetcount, t4.pop100 AS population, ROUND(t3.x*100.0/t4.pop100,2) AS tweetspercapita, t5.geom\n",
    "FROM\n",
    "    (SELECT t1.namelsad10, CAST(COUNT(t2.id) AS NUMERIC) AS x\n",
    "    FROM tl_2010_06_county10 t1,tweetpoints t2\n",
    "    WHERE ST_Contains(t1.geom,t2.location)\n",
    "    GROUP BY t1.namelsad10 \n",
    "    ORDER BY t1.namelsad10) AS t3\n",
    "    LEFT JOIN\n",
    "        (SELECT name, pop100\n",
    "        FROM ca_census_data\n",
    "        ORDER BY pop100) AS t4\n",
    "    ON t3.namelsad10 = t4.name\n",
    "    LEFT JOIN\n",
    "        (SELECT geom, namelsad10\n",
    "        FROM tl_2010_06_county10) AS t5\n",
    "    ON t4.name = t5.namelsad10);\"\"\"\n",
    "cur.execute(sql)\n",
    "conn.commit()"
   ]
  },
  {
   "cell_type": "markdown",
   "metadata": {},
   "source": [
    "#### Create dataframe from query"
   ]
  },
  {
   "cell_type": "code",
   "execution_count": 62,
   "metadata": {},
   "outputs": [],
   "source": [
    "sql = \"\"\"\n",
    "SELECT t3.namelsad10 AS county, t3.x AS tweetcount, t4.pop100 AS population, ROUND(t3.x*100.0/t4.pop100,2) AS tweetspercapita, t5.geom\n",
    "FROM\n",
    "    (SELECT t1.namelsad10, CAST(COUNT(t2.id) AS NUMERIC) AS x\n",
    "    FROM tl_2010_06_county10 t1,tweetpoints t2\n",
    "    WHERE ST_Contains(t1.geom,t2.location)\n",
    "    GROUP BY t1.namelsad10 \n",
    "    ORDER BY t1.namelsad10) AS t3\n",
    "    LEFT JOIN\n",
    "        (SELECT name, pop100\n",
    "        FROM ca_census_data\n",
    "        ORDER BY pop100) AS t4\n",
    "    ON t3.namelsad10 = t4.name\n",
    "    LEFT JOIN\n",
    "        (SELECT geom, namelsad10\n",
    "        FROM tl_2010_06_county10) AS t5\n",
    "    ON t4.name = t5.namelsad10;\"\"\"\n",
    "\n",
    "df4 = pd.read_sql_query(sql, con=conn)"
   ]
  },
  {
   "cell_type": "markdown",
   "metadata": {},
   "source": [
    "#### Write the dataframe to a geojson file"
   ]
  },
  {
   "cell_type": "code",
   "execution_count": 82,
   "metadata": {},
   "outputs": [],
   "source": [
    "gdf_counties = gpd.read_file(\"tl_2010_06_county10/tl_2010_06_county10.shp\")\n",
    "geometry = gdf_counties.geometry\n",
    "gdf = gpd.GeoDataFrame(df4, geometry=geometry)\n",
    "gdf.to_file('tweetspercapita.geojson', driver='GeoJSON')"
   ]
  },
  {
   "cell_type": "markdown",
   "metadata": {},
   "source": [
    "## Chloropleth map of the number of tweets per capita by county"
   ]
  },
  {
   "cell_type": "code",
   "execution_count": 83,
   "metadata": {
    "scrolled": true
   },
   "outputs": [
    {
     "data": {
      "image/png": "[encoded data removed]",
      "text/plain": [
       "<Figure size 1440x360 with 2 Axes>"
      ]
     },
     "metadata": {
      "needs_background": "light"
     },
     "output_type": "display_data"
    }
   ],
   "source": [
    "from mpl_toolkits.axes_grid1 import make_axes_locatable\n",
    "fig, ax = plt.subplots(figsize=(20, 5))\n",
    "divider = make_axes_locatable(ax)\n",
    "cax = divider.append_axes(\"right\", size=\"10%\", pad=1)\n",
    "gdf.plot(column='tweetspercapita', ax=ax, legend=True,cax=cax);"
   ]
  },
  {
   "cell_type": "code",
   "execution_count": null,
   "metadata": {},
   "outputs": [],
   "source": []
  },
  {
   "cell_type": "code",
   "execution_count": null,
   "metadata": {},
   "outputs": [],
   "source": []
  }
 ],
 "metadata": {
  "kernelspec": {
   "display_name": "Python 3",
   "language": "python",
   "name": "python3"
  }
 },
 "nbformat": 4,
 "nbformat_minor": 2
}
